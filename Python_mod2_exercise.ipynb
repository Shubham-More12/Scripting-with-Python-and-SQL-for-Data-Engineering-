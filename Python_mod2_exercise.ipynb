{
 "cells": [
  {
   "cell_type": "code",
   "execution_count": 28,
   "id": "4167cfe5-94ef-466b-93d2-5c069a7fa576",
   "metadata": {},
   "outputs": [],
   "source": [
    "import os"
   ]
  },
  {
   "cell_type": "code",
   "execution_count": null,
   "id": "9ce7bad6-9958-4e54-b866-654e22fa4e87",
   "metadata": {},
   "outputs": [],
   "source": [
    "os.listdir('.')"
   ]
  },
  {
   "cell_type": "code",
   "execution_count": 3,
   "id": "bd19aa45-21ec-42bf-9465-d02a813fc3cc",
   "metadata": {},
   "outputs": [
    {
     "name": "stdout",
     "output_type": "stream",
     "text": [
      "This is a file: Final_Dataset ML 1.ipynb\n",
      "This is a file: Aquifer_Auser.csv\n",
      "This is a file: LLM Applications.ipynb\n",
      "This is a directory PS_Module_1\n",
      "This is a file: Twitter_sentiment.csv\n",
      "This is a file: NYC311data.csv\n",
      "This is a directory .chroma\n",
      "This is a file: Untitled5.ipynb\n",
      "This is a file: Untitled1.ipynb\n",
      "This is a file: review paper graphs.ipynb\n",
      "This is a file: train.parquet\n",
      "This is a file: .DS_Store\n",
      "This is a file: Untitled3.ipynb\n",
      "This is a file: Chi-square test.ipynb\n",
      "This is a file: Untitled.ipynb\n",
      "This is a file: Aquifer_Petrignano.csv\n",
      "This is a file: Untitled4.ipynb\n",
      "This is a file: labelled_newscatcher_dataset.csv\n",
      "This is a file: exercise.ipynb\n",
      "This is a file: Untitled2.ipynb\n",
      "This is a file: mat2json.py\n",
      "This is a file: Python_mod2_exercise.ipynb\n",
      "This is a file: Sentiment Analysis.ipynb\n",
      "This is a file: CI_Engine faults.ipynb\n",
      "This is a file: Time Series Analysis.ipynb\n",
      "This is a directory PS_Module_2\n",
      "This is a directory k22zxz29kr-1\n",
      "This is a file: Elegidos.ipynb\n",
      "This is a file: Stock_Sentiment.csv\n",
      "This is a file: Features_2500RPM_0dB_full.mat\n",
      "This is a file: Micro-mobility.ipynb\n",
      "This is a file: Tweets_US_Airline.ipynb\n",
      "This is a file: train.csv\n",
      "This is a directory .ipynb_checkpoints\n",
      "This is a file: export (10).csv\n",
      "This is a file: Vector Databases.ipynb\n",
      "This is a file: auto.csv\n",
      "This is a directory .empty\n",
      "This is a file: CI_engine_defect_pred.xlsx\n",
      "This is a file: Tweets.csv\n",
      "This is a file: Stock_Sentiment.ipynb\n"
     ]
    }
   ],
   "source": [
    "import os\n",
    "for item in os.listdir('.'):\n",
    "  if os.path.isdir(item):\n",
    "    print(\"This is a directory {0}\".format(item))\n",
    "  else:\n",
    "    print(\"This is a file: {0}\".format(item))"
   ]
  },
  {
   "cell_type": "code",
   "execution_count": 7,
   "id": "748dca99-1d0d-4c38-95ca-ef02962be574",
   "metadata": {},
   "outputs": [
    {
     "name": "stdout",
     "output_type": "stream",
     "text": [
      "Size: 571499, path: ./Final_Dataset ML 1.ipynb\n",
      "Size: 922401, path: ./Aquifer_Auser.csv\n",
      "Size: 55029, path: ./LLM Applications.ipynb\n",
      "Size: 238803811, path: ./Twitter_sentiment.csv\n",
      "Size: 187130727, path: ./NYC311data.csv\n",
      "Size: 14560, path: ./Untitled5.ipynb\n",
      "Size: 5755, path: ./Untitled1.ipynb\n",
      "Size: 3359494, path: ./review paper graphs.ipynb\n",
      "Size: 38705235, path: ./train.parquet\n",
      "Size: 10244, path: ./.DS_Store\n",
      "Size: 35850, path: ./Untitled3.ipynb\n",
      "Size: 9950, path: ./Chi-square test.ipynb\n",
      "Size: 185437, path: ./Untitled.ipynb\n",
      "Size: 261818, path: ./Aquifer_Petrignano.csv\n",
      "Size: 2358, path: ./Untitled4.ipynb\n",
      "Size: 24692734, path: ./labelled_newscatcher_dataset.csv\n",
      "Size: 164533, path: ./exercise.ipynb\n",
      "Size: 530911, path: ./Untitled2.ipynb\n",
      "Size: 888, path: ./mat2json.py\n",
      "Size: 4938, path: ./Python_mod2_exercise.ipynb\n",
      "Size: 18939, path: ./Sentiment Analysis.ipynb\n",
      "Size: 32341, path: ./CI_Engine faults.ipynb\n",
      "Size: 589225, path: ./Time Series Analysis.ipynb\n",
      "Size: 321535, path: ./Elegidos.ipynb\n",
      "Size: 5617630, path: ./Stock_Sentiment.csv\n",
      "Size: 1616728, path: ./Features_2500RPM_0dB_full.mat\n",
      "Size: 701051, path: ./Micro-mobility.ipynb\n",
      "Size: 36895, path: ./Tweets_US_Airline.ipynb\n",
      "Size: 184992830, path: ./train.csv\n",
      "Size: 281904, path: ./export (10).csv\n",
      "Size: 59733, path: ./Vector Databases.ipynb\n",
      "Size: 24916, path: ./auto.csv\n",
      "Size: 3413407, path: ./CI_engine_defect_pred.xlsx\n",
      "Size: 3421431, path: ./Tweets.csv\n",
      "Size: 82240, path: ./Stock_Sentiment.ipynb\n",
      "Size: 0, path: ./PS_Module_1/excercise.json\n",
      "Size: 6148, path: ./PS_Module_1/.DS_Store\n",
      "Size: 7749, path: ./PS_Module_1/Untitled.ipynb\n",
      "Size: 314894, path: ./PS_Module_1/wine-ratings-small.csv\n",
      "Size: 155431, path: ./PS_Module_1/exercise.ipynb\n",
      "Size: 155431, path: ./PS_Module_1/.ipynb_checkpoints/exercise-checkpoint.ipynb\n",
      "Size: 72, path: ./PS_Module_1/.ipynb_checkpoints/Untitled-checkpoint.ipynb\n",
      "Size: 73, path: ./.chroma/index/index_metadata_ffb6b702-f61d-4997-93b9-12eced140972.pkl\n",
      "Size: 168504, path: ./.chroma/index/index_ffb6b702-f61d-4997-93b9-12eced140972.bin\n",
      "Size: 3188, path: ./.chroma/index/id_to_uuid_ffb6b702-f61d-4997-93b9-12eced140972.pkl\n",
      "Size: 3716, path: ./.chroma/index/uuid_to_id_ffb6b702-f61d-4997-93b9-12eced140972.pkl\n",
      "Size: 8208, path: ./PS_Module_2/sample.db\n",
      "Size: 1082, path: ./PS_Module_2/main.ipynb\n",
      "Size: 6148, path: ./PS_Module_2/.DS_Store\n",
      "Size: 4616, path: ./PS_Module_2/sample.db-journal\n",
      "Size: 1961, path: ./PS_Module_2/Data_Structures.ipynb\n",
      "Size: 7732, path: ./PS_Module_2/SQLite_session_1.ipynb\n",
      "Size: 72, path: ./PS_Module_2/.ipynb_checkpoints/SQLite_session_1-checkpoint.ipynb\n",
      "Size: 72, path: ./PS_Module_2/.ipynb_checkpoints/main-checkpoint.ipynb\n",
      "Size: 72, path: ./PS_Module_2/.ipynb_checkpoints/Data_Structures-checkpoint.ipynb\n",
      "Size: 6148, path: ./k22zxz29kr-1/.DS_Store\n",
      "Size: 1600255, path: ./k22zxz29kr-1/Features_2500RPM_15dB_full.mat\n",
      "Size: 3413434, path: ./k22zxz29kr-1/CI_engine.xlsx\n",
      "Size: 1616728, path: ./k22zxz29kr-1/Features_2500RPM_0dB_full.mat\n",
      "Size: 1580278, path: ./k22zxz29kr-1/Features_2500RPM_30dB_full.mat\n",
      "Size: 1547206, path: ./k22zxz29kr-1/Features_2500RPM_60dB_full.mat\n",
      "Size: 72, path: ./.ipynb_checkpoints/Untitled3-checkpoint.ipynb\n",
      "Size: 72, path: ./.ipynb_checkpoints/Vector Databases-checkpoint.ipynb\n",
      "Size: 149361, path: ./.ipynb_checkpoints/exercise-checkpoint.ipynb\n",
      "Size: 72, path: ./.ipynb_checkpoints/Time Series Analysis-checkpoint.ipynb\n",
      "Size: 72, path: ./.ipynb_checkpoints/Untitled2-checkpoint.ipynb\n",
      "Size: 3359493, path: ./.ipynb_checkpoints/review paper graphs-checkpoint.ipynb\n",
      "Size: 72, path: ./.ipynb_checkpoints/LLM Applications-checkpoint.ipynb\n",
      "Size: 699706, path: ./.ipynb_checkpoints/Micro-mobility-checkpoint.ipynb\n",
      "Size: 0, path: ./.ipynb_checkpoints/excercise-checkpoint.json\n",
      "Size: 72, path: ./.ipynb_checkpoints/Stock_Sentiment-checkpoint.ipynb\n",
      "Size: 888, path: ./.ipynb_checkpoints/mat2json-checkpoint.py\n",
      "Size: 72, path: ./.ipynb_checkpoints/Untitled1-checkpoint.ipynb\n",
      "Size: 72, path: ./.ipynb_checkpoints/Untitled5-checkpoint.ipynb\n",
      "Size: 72, path: ./.ipynb_checkpoints/Sentiment Analysis-checkpoint.ipynb\n",
      "Size: 5617630, path: ./.ipynb_checkpoints/Stock_Sentiment-checkpoint.csv\n",
      "Size: 72, path: ./.ipynb_checkpoints/Untitled-checkpoint.ipynb\n",
      "Size: 72, path: ./.ipynb_checkpoints/Tweets_US_Airline-checkpoint.ipynb\n",
      "Size: 9950, path: ./.ipynb_checkpoints/Chi-square test-checkpoint.ipynb\n",
      "Size: 72, path: ./.ipynb_checkpoints/Untitled4-checkpoint.ipynb\n",
      "Size: 72, path: ./.ipynb_checkpoints/Python_mod2_exercise-checkpoint.ipynb\n",
      "Size: 72, path: ./.ipynb_checkpoints/CI_Engine faults-checkpoint.ipynb\n",
      "Size: 571630, path: ./.ipynb_checkpoints/Final_Dataset ML 1-checkpoint.ipynb\n"
     ]
    }
   ],
   "source": [
    "#update the loop to include file size\n",
    "for root, directories, files in os.walk('.'):\n",
    "    for _file in files:\n",
    "        full_path = os.path.join(root, _file)\n",
    "        size = os.path.getsize(full_path)\n",
    "        print(f\"Size: {size}, path: {full_path}\")"
   ]
  },
  {
   "cell_type": "code",
   "execution_count": 19,
   "id": "89401fcc-27ca-43db-9504-44b73c7f2b52",
   "metadata": {},
   "outputs": [
    {
     "data": {
      "text/plain": [
       "'/Users/bhubham.more/Desktop/Elegidos Micro mobility/Python Files'"
      ]
     },
     "execution_count": 19,
     "metadata": {},
     "output_type": "execute_result"
    }
   ],
   "source": [
    "os.getcwd()"
   ]
  },
  {
   "cell_type": "code",
   "execution_count": 33,
   "id": "65ceab3a-d33d-477f-9dc9-2e9adcbb369f",
   "metadata": {},
   "outputs": [
    {
     "ename": "FileNotFoundError",
     "evalue": "[Errno 2] No such file or directory: 'uuid_to_id_ffb6b702-f61d-4997-93b9-12eced140972.pkl'",
     "output_type": "error",
     "traceback": [
      "\u001b[0;31m---------------------------------------------------------------------------\u001b[0m",
      "\u001b[0;31mFileNotFoundError\u001b[0m                         Traceback (most recent call last)",
      "\u001b[0;32m/var/folders/rg/8v38snp932944mwxjgwm5vjm0000gp/T/ipykernel_33114/997286218.py\u001b[0m in \u001b[0;36m<module>\u001b[0;34m\u001b[0m\n\u001b[1;32m      7\u001b[0m     \u001b[0;32mfor\u001b[0m \u001b[0m_file\u001b[0m \u001b[0;32min\u001b[0m \u001b[0mfiles\u001b[0m\u001b[0;34m:\u001b[0m\u001b[0;34m\u001b[0m\u001b[0;34m\u001b[0m\u001b[0m\n\u001b[1;32m      8\u001b[0m         \u001b[0mfull_path\u001b[0m \u001b[0;34m=\u001b[0m \u001b[0mos\u001b[0m\u001b[0;34m.\u001b[0m\u001b[0mpath\u001b[0m\u001b[0;34m.\u001b[0m\u001b[0mjoin\u001b[0m\u001b[0;34m(\u001b[0m\u001b[0mroot\u001b[0m\u001b[0;34m,\u001b[0m \u001b[0m_file\u001b[0m\u001b[0;34m)\u001b[0m\u001b[0;34m\u001b[0m\u001b[0;34m\u001b[0m\u001b[0m\n\u001b[0;32m----> 9\u001b[0;31m         \u001b[0msize\u001b[0m \u001b[0;34m=\u001b[0m \u001b[0mos\u001b[0m\u001b[0;34m.\u001b[0m\u001b[0mpath\u001b[0m\u001b[0;34m.\u001b[0m\u001b[0mgetsize\u001b[0m\u001b[0;34m(\u001b[0m\u001b[0m_file\u001b[0m\u001b[0;34m)\u001b[0m\u001b[0;34m\u001b[0m\u001b[0;34m\u001b[0m\u001b[0m\n\u001b[0m\u001b[1;32m     10\u001b[0m         \u001b[0mfiles_metadata\u001b[0m\u001b[0;34m[\u001b[0m\u001b[0mfull_path\u001b[0m\u001b[0;34m]\u001b[0m \u001b[0;34m=\u001b[0m \u001b[0msize\u001b[0m\u001b[0;34m\u001b[0m\u001b[0;34m\u001b[0m\u001b[0m\n\u001b[1;32m     11\u001b[0m \u001b[0;34m\u001b[0m\u001b[0m\n",
      "\u001b[0;32m/Users/anaconda3/lib/python3.10/genericpath.py\u001b[0m in \u001b[0;36mgetsize\u001b[0;34m(filename)\u001b[0m\n\u001b[1;32m     48\u001b[0m \u001b[0;32mdef\u001b[0m \u001b[0mgetsize\u001b[0m\u001b[0;34m(\u001b[0m\u001b[0mfilename\u001b[0m\u001b[0;34m)\u001b[0m\u001b[0;34m:\u001b[0m\u001b[0;34m\u001b[0m\u001b[0;34m\u001b[0m\u001b[0m\n\u001b[1;32m     49\u001b[0m     \u001b[0;34m\"\"\"Return the size of a file, reported by os.stat().\"\"\"\u001b[0m\u001b[0;34m\u001b[0m\u001b[0;34m\u001b[0m\u001b[0m\n\u001b[0;32m---> 50\u001b[0;31m     \u001b[0;32mreturn\u001b[0m \u001b[0mos\u001b[0m\u001b[0;34m.\u001b[0m\u001b[0mstat\u001b[0m\u001b[0;34m(\u001b[0m\u001b[0mfilename\u001b[0m\u001b[0;34m)\u001b[0m\u001b[0;34m.\u001b[0m\u001b[0mst_size\u001b[0m\u001b[0;34m\u001b[0m\u001b[0;34m\u001b[0m\u001b[0m\n\u001b[0m\u001b[1;32m     51\u001b[0m \u001b[0;34m\u001b[0m\u001b[0m\n\u001b[1;32m     52\u001b[0m \u001b[0;34m\u001b[0m\u001b[0m\n",
      "\u001b[0;31mFileNotFoundError\u001b[0m: [Errno 2] No such file or directory: 'uuid_to_id_ffb6b702-f61d-4997-93b9-12eced140972.pkl'"
     ]
    }
   ],
   "source": [
    "# using file paths as dictionary keys\n",
    "files_metadata = {}\n",
    "ignore_list = ['exercise-checkpoint.ipynb', 'Untitled-checkpoint.ipynb', 'excercise.json', 'wine-ratings-small.csv', 'index_metadata_ffb6b702-f61d-4997-93b9-12eced140972.pkl',\n",
    "              'index_ffb6b702-f61d-4997-93b9-12eced140972.bin', 'id_to_uuid_ffb6b702-f61d-4997-93b9-12eced140972.pkl']\n",
    "for root, directories, files in os.walk(\".\", topdown=False):\n",
    "    files[:] = [f for f in files if f not in ignore_list]\n",
    "    for _file in files:\n",
    "        full_path = os.path.join(root, _file)\n",
    "        size = os.path.getsize(_file)\n",
    "        files_metadata[full_path] = size\n",
    "\n",
    "files_metadata"
   ]
  },
  {
   "cell_type": "code",
   "execution_count": 20,
   "id": "b6e3b606-315f-48e3-a221-2474000e0e10",
   "metadata": {},
   "outputs": [],
   "source": [
    "items_shown = 0\n",
    "for path, size in sorted(files_metadata.items()):\n",
    "    if items_shown>4:\n",
    "        break\n",
    "    print(f\"size: {size} Path: {path}\")\n",
    "    items_shown+=1"
   ]
  },
  {
   "cell_type": "code",
   "execution_count": null,
   "id": "86f07ad3-ade8-42a4-95c7-fc42ecd2f256",
   "metadata": {},
   "outputs": [],
   "source": []
  },
  {
   "cell_type": "code",
   "execution_count": null,
   "id": "66e3e7fa-c02c-4d67-b3de-8bc05a980c90",
   "metadata": {},
   "outputs": [],
   "source": []
  },
  {
   "cell_type": "code",
   "execution_count": null,
   "id": "2562f8ee-6d38-496b-bf08-743231424a6a",
   "metadata": {},
   "outputs": [],
   "source": []
  },
  {
   "cell_type": "code",
   "execution_count": null,
   "id": "300d0e84-1aae-48bb-bc4a-499dd42d6bd7",
   "metadata": {},
   "outputs": [],
   "source": []
  },
  {
   "cell_type": "code",
   "execution_count": null,
   "id": "f1aee76a-c1c3-4239-9e20-87375bcfb58a",
   "metadata": {},
   "outputs": [],
   "source": []
  },
  {
   "cell_type": "code",
   "execution_count": null,
   "id": "fd0776cd-3001-44b4-970f-d58d66cd0541",
   "metadata": {},
   "outputs": [],
   "source": []
  }
 ],
 "metadata": {
  "kernelspec": {
   "display_name": "Python 3 (ipykernel)",
   "language": "python",
   "name": "python3"
  },
  "language_info": {
   "codemirror_mode": {
    "name": "ipython",
    "version": 3
   },
   "file_extension": ".py",
   "mimetype": "text/x-python",
   "name": "python",
   "nbconvert_exporter": "python",
   "pygments_lexer": "ipython3",
   "version": "3.10.11"
  }
 },
 "nbformat": 4,
 "nbformat_minor": 5
}
