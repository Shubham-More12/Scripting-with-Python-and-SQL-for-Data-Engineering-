{
 "cells": [
  {
   "cell_type": "code",
   "execution_count": 1,
   "id": "5cdc3d29-928e-4bf5-b7f8-1bd5c8f971ae",
   "metadata": {},
   "outputs": [],
   "source": [
    "import sqlite3"
   ]
  },
  {
   "cell_type": "code",
   "execution_count": 3,
   "id": "4f9e8391-fd55-4acf-a34b-0bf8c5c40fc0",
   "metadata": {},
   "outputs": [
    {
     "data": {
      "text/plain": [
       "<sqlite3.Cursor at 0x7fc7ddcc3bc0>"
      ]
     },
     "execution_count": 3,
     "metadata": {},
     "output_type": "execute_result"
    }
   ],
   "source": [
    "connection = sqlite3.connect('sample.db1')\n",
    "table = 'CREATE TABLE peoples (id integer primary key, name TEXT, surname TEXT)'\n",
    "cursor = connection.cursor()\n",
    "cursor.execute(table)"
   ]
  },
  {
   "cell_type": "code",
   "execution_count": 4,
   "id": "33b3695a-23b5-4602-b9aa-7c6fbda8c885",
   "metadata": {},
   "outputs": [],
   "source": [
    "connection.commit()"
   ]
  },
  {
   "cell_type": "code",
   "execution_count": 5,
   "id": "210cc2c2-73a4-47bf-b92c-552b12306d0e",
   "metadata": {},
   "outputs": [
    {
     "data": {
      "text/plain": [
       "[['Mary', 'West'],\n",
       " ['Mark', 'Dean'],\n",
       " ['Jorge', 'Charles'],\n",
       " ['Charlene', 'Lynch'],\n",
       " ['Patricia', 'Reed'],\n",
       " ['Christina', 'Howell'],\n",
       " ['Gary', 'Reyes'],\n",
       " ['John', 'Bailey'],\n",
       " ['Dwayne', 'Henry'],\n",
       " ['Richard', 'Frank'],\n",
       " ['Lauren', 'Ewing'],\n",
       " ['Candice', 'Brown'],\n",
       " ['Michael', 'Cowan'],\n",
       " ['Savannah', 'Carlson'],\n",
       " ['Richard', 'Kramer'],\n",
       " ['Brianna', 'Caldwell'],\n",
       " ['Christian', 'Mitchell'],\n",
       " ['Ricky', 'Smith'],\n",
       " ['Michael', 'Clark'],\n",
       " ['Debbie', 'Nunez'],\n",
       " ['Kevin', 'Gomez'],\n",
       " ['Andrew', 'Parker'],\n",
       " ['Darren', 'Williamson'],\n",
       " ['Renee', 'Gay'],\n",
       " ['Brittany', 'Nguyen'],\n",
       " ['David', 'Coleman'],\n",
       " ['William', 'Maxwell'],\n",
       " ['Nicole', 'Schroeder'],\n",
       " ['Donna', 'Stephens'],\n",
       " ['Patrick', 'Shaw'],\n",
       " ['Stacey', 'Mccoy'],\n",
       " ['James', 'Reyes'],\n",
       " ['Cindy', 'Nelson'],\n",
       " ['Tammie', 'Hayes'],\n",
       " ['Michael', 'Gregory'],\n",
       " ['Michael', 'Barnes'],\n",
       " ['Jason', 'Lopez'],\n",
       " ['Misty', 'Oconnor'],\n",
       " ['Shawn', 'Greene'],\n",
       " ['Jeffery', 'Bradford'],\n",
       " ['Jamie', 'Chase'],\n",
       " ['Kenneth', 'Rubio'],\n",
       " ['Courtney', 'Mckinney'],\n",
       " ['Victoria', 'Burns'],\n",
       " ['Jason', 'English'],\n",
       " ['Brittney', 'Thomas'],\n",
       " ['Jessica', 'Holland'],\n",
       " ['Michael', 'Munoz'],\n",
       " ['Andrea', 'Aguirre'],\n",
       " ['Sharon', 'Young']]"
      ]
     },
     "execution_count": 5,
     "metadata": {},
     "output_type": "execute_result"
    }
   ],
   "source": [
    "from faker import Faker\n",
    "fake = Faker()\n",
    "names = [fake.name().split() for i in range(50)]\n",
    "names = [i for i in names if len(i)==2]\n",
    "names"
   ]
  },
  {
   "cell_type": "code",
   "execution_count": 8,
   "id": "5be0f31b-2163-4c4c-a67f-9fd9b7bd868d",
   "metadata": {},
   "outputs": [],
   "source": [
    "# Adding data to tables\n",
    "connection = sqlite3.connect(\"sample.db1\")\n",
    "insert_query = 'insert into peoples (name, surname) values(?, ?)'\n",
    "cursor = connection.cursor()\n",
    "for name in names:\n",
    "    cursor.execute(insert_query, name)\n",
    "connection.commit()"
   ]
  },
  {
   "cell_type": "code",
   "execution_count": 11,
   "id": "bb152e4d-56fa-42ac-92da-efa8baa100f9",
   "metadata": {},
   "outputs": [
    {
     "name": "stdout",
     "output_type": "stream",
     "text": [
      "(1, 'Mary', 'West')\n",
      "(2, 'Mark', 'Dean')\n",
      "(3, 'Jorge', 'Charles')\n",
      "(4, 'Charlene', 'Lynch')\n",
      "(5, 'Patricia', 'Reed')\n",
      "(6, 'Christina', 'Howell')\n",
      "(7, 'Gary', 'Reyes')\n",
      "(8, 'John', 'Bailey')\n",
      "(9, 'Dwayne', 'Henry')\n",
      "(10, 'Richard', 'Frank')\n"
     ]
    }
   ],
   "source": [
    "select_query = 'select * from peoples LIMIT 10'\n",
    "for i in cursor.execute(select_query):\n",
    "    print(i)"
   ]
  }
 ],
 "metadata": {
  "kernelspec": {
   "display_name": "Python 3 (ipykernel)",
   "language": "python",
   "name": "python3"
  },
  "language_info": {
   "codemirror_mode": {
    "name": "ipython",
    "version": 3
   },
   "file_extension": ".py",
   "mimetype": "text/x-python",
   "name": "python",
   "nbconvert_exporter": "python",
   "pygments_lexer": "ipython3",
   "version": "3.10.11"
  }
 },
 "nbformat": 4,
 "nbformat_minor": 5
}
